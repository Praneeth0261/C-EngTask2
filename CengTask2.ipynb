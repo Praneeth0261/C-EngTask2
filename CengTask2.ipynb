{
  "nbformat": 4,
  "nbformat_minor": 0,
  "metadata": {
    "colab": {
      "provenance": [],
      "authorship_tag": "ABX9TyMoslxc6sXEuo3nollgU05z",
      "include_colab_link": true
    },
    "kernelspec": {
      "name": "python3",
      "display_name": "Python 3"
    },
    "language_info": {
      "name": "python"
    }
  },
  "cells": [
    {
      "cell_type": "markdown",
      "metadata": {
        "id": "view-in-github",
        "colab_type": "text"
      },
      "source": [
        "<a href=\"https://colab.research.google.com/github/Praneeth0261/C-EngTask2/blob/main/CengTask2.ipynb\" target=\"_parent\"><img src=\"https://colab.research.google.com/assets/colab-badge.svg\" alt=\"Open In Colab\"/></a>"
      ]
    },
    {
      "cell_type": "markdown",
      "source": [
        "# Hardcoded Variables"
      ],
      "metadata": {
        "id": "N5diqUogPe1B"
      }
    },
    {
      "cell_type": "code",
      "execution_count": null,
      "metadata": {
        "colab": {
          "base_uri": "https://localhost:8080/"
        },
        "id": "-qcTkpX5Lq21",
        "outputId": "27fbf0c5-5087-4eeb-b695-b39e6cdd8ffc"
      },
      "outputs": [
        {
          "output_type": "stream",
          "name": "stdout",
          "text": [
            "Sum: 30\n"
          ]
        }
      ],
      "source": [
        "# Hardcoded variables\n",
        "x = 10\n",
        "y = 20\n",
        "print(\"Sum:\", x + y)"
      ]
    },
    {
      "cell_type": "markdown",
      "source": [
        "# Keyboard Input"
      ],
      "metadata": {
        "id": "8knNEDx6PjHI"
      }
    },
    {
      "cell_type": "code",
      "source": [
        "name = input(\"Enter your name: \")\n",
        "print(\"Hello,\", name)"
      ],
      "metadata": {
        "colab": {
          "base_uri": "https://localhost:8080/"
        },
        "id": "v818havjL5mZ",
        "outputId": "d4660f47-cd2e-40e6-db9d-a92a26305766"
      },
      "execution_count": null,
      "outputs": [
        {
          "output_type": "stream",
          "name": "stdout",
          "text": [
            "Enter your name: sai\n",
            "Hello, sai\n"
          ]
        }
      ]
    },
    {
      "cell_type": "markdown",
      "source": [
        "# Reading from a file (single input)"
      ],
      "metadata": {
        "id": "HN_a3Bv_P0zn"
      }
    },
    {
      "cell_type": "code",
      "source": [
        "with open('input.txt', 'r') as file:\n",
        "    data = file.readline()\n",
        "    print(\"Data from file:\", data)"
      ],
      "metadata": {
        "colab": {
          "base_uri": "https://localhost:8080/"
        },
        "id": "Oib3JhrnMJox",
        "outputId": "acb71b9e-5345-4714-9ba8-7e4a38dc9110"
      },
      "execution_count": null,
      "outputs": [
        {
          "output_type": "stream",
          "name": "stdout",
          "text": [
            "Data from file: 55\n"
          ]
        }
      ]
    },
    {
      "cell_type": "markdown",
      "source": [
        "# Reading inputs from a file (multiple inputs)"
      ],
      "metadata": {
        "id": "7986R-AhQKDm"
      }
    },
    {
      "cell_type": "code",
      "source": [
        "try:\n",
        "    with open('inputs.txt', 'r') as file:\n",
        "        for line in file:\n",
        "            print(\"Input:\", line.strip())\n",
        "except FileNotFoundError:\n",
        "    print(\"File not found.\")\n",
        "except ValueError:\n",
        "    print(\"Invalid input format.\")\n"
      ],
      "metadata": {
        "colab": {
          "base_uri": "https://localhost:8080/"
        },
        "id": "8A5nP0fEMnSp",
        "outputId": "004b9c71-9726-43c3-944f-e448cf028e2a"
      },
      "execution_count": null,
      "outputs": [
        {
          "output_type": "stream",
          "name": "stdout",
          "text": [
            "Input: 22\n",
            "Input: 55\n",
            "Input: 17\n"
          ]
        }
      ]
    }
  ]
}